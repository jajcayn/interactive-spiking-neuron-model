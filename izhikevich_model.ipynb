{
 "cells": [
  {
   "cell_type": "markdown",
   "metadata": {},
   "source": [
    "## Izhikevich model of spiking neuron\n",
    "\n",
    "$\\dot{v} = 0.04 v^{2} + 5v + 140 - u + I$  \n",
    "$\\dot{u} = a\\left( bv - u\\right)$\n",
    "\n",
    "with auxilliary after-spike reset\n",
    "\n",
    "$v \\ge 30 mV \\Rightarrow \\begin{cases}\n",
    "    v \\leftarrow c \\\\\n",
    "    u \\leftarrow u + d\n",
    "\\end{cases}$\n",
    "\n",
    "where $v$ represents a membrane potential and $u$ membrane recovery variable.\n",
    "\n",
    "**Reference**:\n",
    "Izhikevich, E. M. (2003). Simple model of spiking neurons. IEEE Transactions on neural networks, 14(6), 1569-1572."
   ]
  },
  {
   "cell_type": "markdown",
   "metadata": {},
   "source": [
    "<img src=\"izhi_illustration.png\" alt=\"Izhikevich model explanation\" style=\"width: 447px; height: 303px\"/>"
   ]
  },
  {
   "cell_type": "code",
   "execution_count": 1,
   "metadata": {},
   "outputs": [],
   "source": [
    "# imports and other prepare stuff\n",
    "from functools import partial\n",
    "from IPython.display import display\n",
    "import ipywidgets as widgets\n",
    "\n",
    "from models import IzhikevichModel, IZHIKEVICH_MODEL_SLIDERS\n",
    "from plotting import setup_sliders_layout, integrate_and_plot"
   ]
  },
  {
   "cell_type": "code",
   "execution_count": 2,
   "metadata": {},
   "outputs": [
    {
     "data": {
      "application/vnd.jupyter.widget-view+json": {
       "model_id": "35dae4c7653549f9a0f775f3e228ccef",
       "version_major": 2,
       "version_minor": 0
      },
      "text/plain": [
       "GridspecLayout(children=(Button(description='Model parameters', layout=Layout(grid_area='widget001', height='a…"
      ]
     },
     "metadata": {},
     "output_type": "display_data"
    },
    {
     "data": {
      "application/vnd.jupyter.widget-view+json": {
       "model_id": "86d7849f61c04760ad95e964a06f06cd",
       "version_major": 2,
       "version_minor": 0
      },
      "text/plain": [
       "Output()"
      ]
     },
     "metadata": {},
     "output_type": "display_data"
    }
   ],
   "source": [
    "grid, sliders = setup_sliders_layout(IZHIKEVICH_MODEL_SLIDERS)\n",
    "# run interactive plot\n",
    "ui = widgets.interactive_output(partial(integrate_and_plot, model_cls=IzhikevichModel), sliders)\n",
    "\n",
    "display(grid, ui)"
   ]
  }
 ],
 "metadata": {
  "kernelspec": {
   "display_name": "Python 3",
   "language": "python",
   "name": "python3"
  },
  "language_info": {
   "codemirror_mode": {
    "name": "ipython",
    "version": 3
   },
   "file_extension": ".py",
   "mimetype": "text/x-python",
   "name": "python",
   "nbconvert_exporter": "python",
   "pygments_lexer": "ipython3",
   "version": "3.7.6"
  }
 },
 "nbformat": 4,
 "nbformat_minor": 4
}
