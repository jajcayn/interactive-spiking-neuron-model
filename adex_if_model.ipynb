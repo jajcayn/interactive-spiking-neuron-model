{
 "cells": [
  {
   "cell_type": "markdown",
   "metadata": {},
   "source": [
    "## Adaptive exponential integrate-and-fire model of spiking neuron\n",
    "\n",
    "$C\\dot{v} = -g_{L}(V - E_{L}) + g_{L}\\Delta_{T}\\mathrm{exp}\\left(\\frac{V - V_{T}}{\\Delta_{T}}\\right) - w + I$  \n",
    "$\\tau_{w}\\dot{w} = a(V - E_{L}) - w$\n",
    "\n",
    "with auxilliary after-spike reset\n",
    "\n",
    "$v \\ge 30 mV \\Rightarrow \\begin{cases}\n",
    "    v \\leftarrow V_{r} \\\\\n",
    "    w \\leftarrow w + b\n",
    "\\end{cases}$\n",
    "\n",
    "where $v$ represents a membrane potential and $w$ adaptation variable.\n",
    "\n",
    "**Reference**:\n",
    "Brette, R., & Gerstner, W. (2005). Adaptive exponential integrate-and-fire model as an effective description of neuronal activity. Journal of neurophysiology, 94(5), 3637-3642."
   ]
  },
  {
   "cell_type": "code",
   "execution_count": 1,
   "metadata": {},
   "outputs": [],
   "source": [
    "# imports and other prepare stuff\n",
    "from functools import partial\n",
    "from IPython.display import display\n",
    "import ipywidgets as widgets\n",
    "\n",
    "from models import AdExIntegrateAndFire, ADEX_MODEL_SLIDERS\n",
    "from plotting import setup_sliders_layout, integrate_and_plot"
   ]
  },
  {
   "cell_type": "code",
   "execution_count": 2,
   "metadata": {},
   "outputs": [
    {
     "data": {
      "application/vnd.jupyter.widget-view+json": {
       "model_id": "09b553330deb4049b14db549f63ec30d",
       "version_major": 2,
       "version_minor": 0
      },
      "text/plain": [
       "GridspecLayout(children=(Button(description='Model parameters', layout=Layout(grid_area='widget001', height='a…"
      ]
     },
     "metadata": {},
     "output_type": "display_data"
    },
    {
     "data": {
      "application/vnd.jupyter.widget-view+json": {
       "model_id": "3990d36e99934266ac43f4f3efa1adca",
       "version_major": 2,
       "version_minor": 0
      },
      "text/plain": [
       "Output()"
      ]
     },
     "metadata": {},
     "output_type": "display_data"
    }
   ],
   "source": [
    "import logging\n",
    "logging.getLogger().setLevel(logging.INFO)\n",
    "grid, sliders = setup_sliders_layout(ADEX_MODEL_SLIDERS)\n",
    "# run interactive plot\n",
    "ui = widgets.interactive_output(partial(integrate_and_plot, model_cls=AdExIntegrateAndFire), sliders)\n",
    "\n",
    "display(grid, ui)"
   ]
  }
 ],
 "metadata": {
  "kernelspec": {
   "display_name": "Python 3",
   "language": "python",
   "name": "python3"
  },
  "language_info": {
   "codemirror_mode": {
    "name": "ipython",
    "version": 3
   },
   "file_extension": ".py",
   "mimetype": "text/x-python",
   "name": "python",
   "nbconvert_exporter": "python",
   "pygments_lexer": "ipython3",
   "version": "3.7.6"
  }
 },
 "nbformat": 4,
 "nbformat_minor": 4
}
